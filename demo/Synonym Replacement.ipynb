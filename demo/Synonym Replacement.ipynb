{
 "cells": [
  {
   "cell_type": "markdown",
   "id": "a0bba5f8-5bc0-4671-9b05-7cf3eb1b609d",
   "metadata": {},
   "source": [
    "# Synonym Replacement"
   ]
  },
  {
   "cell_type": "code",
   "execution_count": 1,
   "id": "b37b47c4-60fc-4650-b48b-ad032b001a0d",
   "metadata": {},
   "outputs": [],
   "source": [
    "%load_ext autoreload\n",
    "%autoreload 2"
   ]
  },
  {
   "cell_type": "code",
   "execution_count": 2,
   "id": "7d65f5d1-7906-43f9-b81d-7657f81b5384",
   "metadata": {},
   "outputs": [],
   "source": [
    "import sys\n",
    "sys.path.append('..')"
   ]
  },
  {
   "cell_type": "code",
   "execution_count": 3,
   "id": "0cc97536-bf22-478f-8a09-fcd649ec8061",
   "metadata": {},
   "outputs": [],
   "source": [
    "import itertools\n",
    "import augtxt.wordsubs\n",
    "import numpy as np"
   ]
  },
  {
   "cell_type": "code",
   "execution_count": 4,
   "id": "7666e7d9-5e76-4e29-9cdc-7490b79a4d49",
   "metadata": {},
   "outputs": [
    {
     "name": "stdout",
     "output_type": "stream",
     "text": [
      "['Welches', 'ist', 'ein', 'Satz', '.']\n",
      "['Das', 'ist', 'weiteres', 'Satz', '.']\n",
      "['Das', 'ist', 'ein', 'Inhaltssatz', '.']\n",
      "['Das', 'ist', 'ein', 'Satz', ',']\n",
      "['Solches', 'ist', 'weiteres', 'Satz', '.']\n",
      "['Welches', 'ist', 'ein', 'Einleitungssatz', '.']\n",
      "['Solches', 'ist', 'ein', 'Satz', ',']\n",
      "['Das', 'ist', 'weiteres', 'Anfangssatzes', '.']\n",
      "['Das', 'ist', 'weiteres', 'Satz', ',']\n",
      "['Das', 'ist', 'ein', 'Eingangssatz', '🎅']\n"
     ]
    }
   ],
   "source": [
    "original_seqs = [[\"Das\", \"ist\", \"ein\", \"Satz\", \".\"], [\"Dies\", \"ist\", \"ein\", \"anderer\", \"Satz\", \".\"]]\n",
    "vocab = set([s.lower() for s in itertools.chain(*original_seqs) if len(s) > 1])\n",
    "\n",
    "synonyms = {\n",
    "    'anderer': ['verschiedener', 'einiger', 'vieler', 'diverser', 'sonstiger', \n",
    "                'etlicher', 'einzelner', 'bestimmter', 'ähnlicher'], \n",
    "    'satz': ['sätze', 'anfangssatz', 'schlussatz', 'eingangssatz', 'einleitungssatzes', \n",
    "             'einleitungsssatz', 'einleitungssatz', 'behauptungssatz', 'beispielsatz', \n",
    "             'schlusssatz', 'anfangssatzes', 'einzelsatz', '#einleitungssatz', \n",
    "             'minimalsatz', 'inhaltssatz', 'aufforderungssatz', 'ausgangssatz'], \n",
    "    '.': [',', '🎅'], \n",
    "    'das': ['welches', 'solches'], \n",
    "    'ein': ['weiteres'], \n",
    "    'dies': ['was', 'umstand', 'dass']\n",
    "}\n",
    "\n",
    "np.random.seed(42)\n",
    "augmented_seqs = augtxt.wordsubs.synonym_replacement(\n",
    "    original_seqs, synonyms, num_augm=10, keep_case=True)\n",
    "\n",
    "# check results for 1st sentence\n",
    "for s in augmented_seqs[0]:\n",
    "    print(s)"
   ]
  }
 ],
 "metadata": {
  "kernelspec": {
   "display_name": "Python 3 (ipykernel)",
   "language": "python",
   "name": "python3"
  },
  "language_info": {
   "codemirror_mode": {
    "name": "ipython",
    "version": 3
   },
   "file_extension": ".py",
   "mimetype": "text/x-python",
   "name": "python",
   "nbconvert_exporter": "python",
   "pygments_lexer": "ipython3",
   "version": "3.7.9"
  }
 },
 "nbformat": 4,
 "nbformat_minor": 5
}
