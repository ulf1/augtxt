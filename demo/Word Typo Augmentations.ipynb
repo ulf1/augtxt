{
 "cells": [
  {
   "cell_type": "markdown",
   "id": "d8c0aa44-c28e-41f8-8f6b-daf8bb89db8f",
   "metadata": {},
   "source": [
    "# Word Typo Augmentations\n",
    "The function `augtxt.augmenters.wordtypo` applies randomly different augmentations to one word.\n",
    "The result is a simulated distribution of possible word augmentations, e.g. how are possible typological errors distributed for a specific original word.\n",
    "The procedure does **not guarantee** that the original word will be augmented."
   ]
  },
  {
   "cell_type": "code",
   "execution_count": 1,
   "id": "d404e46a-a732-4903-9bad-feb11a7343da",
   "metadata": {},
   "outputs": [],
   "source": [
    "%load_ext autoreload\n",
    "%autoreload 2"
   ]
  },
  {
   "cell_type": "code",
   "execution_count": 2,
   "id": "dfc13398-a925-4016-a0cf-64bdfb4e6717",
   "metadata": {},
   "outputs": [],
   "source": [
    "import sys\n",
    "sys.path.append('..')"
   ]
  },
  {
   "cell_type": "code",
   "execution_count": 3,
   "id": "5525969f-15be-4907-91aa-caf8ddc10e1d",
   "metadata": {},
   "outputs": [],
   "source": [
    "from augtxt.augmenters import wordtypo\n",
    "import augtxt.keyboard_layouts as kbl\n",
    "import numpy as np\n",
    "from collections import Counter"
   ]
  },
  {
   "cell_type": "code",
   "execution_count": 4,
   "id": "16a485ce-81e1-4d63-b899-00c61b5911c7",
   "metadata": {},
   "outputs": [],
   "source": [
    "settings = [\n",
    "    {\n",
    "        'p': 0.04,\n",
    "        'fn': 'typo.drop_n_next_twice',\n",
    "        'args': {'loc': ['m', 'e'], 'keep_case': True}\n",
    "    },\n",
    "    {\n",
    "        'p': 0.04,\n",
    "        'fn': 'typo.swap_consecutive',\n",
    "        'args': {'loc': ['m', 'e'], 'keep_case': True}\n",
    "    },\n",
    "    {\n",
    "        'p': 0.02,\n",
    "        'fn': 'typo.pressed_twice',\n",
    "        'args': {'loc': 'u', 'keep_case': True}\n",
    "    },\n",
    "    {\n",
    "        'p': 0.02,\n",
    "        'fn': 'typo.drop_char',\n",
    "        'args': {'loc': ['m', 'e'], 'keep_case': True}\n",
    "    },\n",
    "    {\n",
    "        'p': 0.02,\n",
    "        'fn': 'typo.pressed_shiftalt',\n",
    "        'args': {'loc': ['b', 'm'], 'keymap': kbl.macbook_us, 'trans': kbl.keyboard_transprob}\n",
    "    },\n",
    "]"
   ]
  },
  {
   "cell_type": "code",
   "execution_count": 5,
   "id": "1f0b19c6-11a4-457f-ac0c-3618edc58a19",
   "metadata": {},
   "outputs": [
    {
     "name": "stdout",
     "output_type": "stream",
     "text": [
      "CPU times: user 416 ms, sys: 29.4 ms, total: 446 ms\n",
      "Wall time: 423 ms\n"
     ]
    },
    {
     "data": {
      "text/plain": [
       "Counter({'Blume': 858,\n",
       "         'Blum': 6,\n",
       "         'Bllume': 3,\n",
       "         'Bmme': 1,\n",
       "         'Blumee': 3,\n",
       "         'Bblum': 1,\n",
       "         'BlUme': 2,\n",
       "         'Bluee': 18,\n",
       "         'Bluem': 14,\n",
       "         'Buume': 8,\n",
       "         'Blmme': 13,\n",
       "         'Blue': 6,\n",
       "         'Blmue': 4,\n",
       "         'BLume': 4,\n",
       "         'blume': 8,\n",
       "         'Blme': 3,\n",
       "         'Bume': 5,\n",
       "         'Bulme': 11,\n",
       "         'B¬ume': 2,\n",
       "         'Bmue': 2,\n",
       "         'Blumme': 1,\n",
       "         'Buue': 2,\n",
       "         'Bluume': 5,\n",
       "         'BlumE': 2,\n",
       "         'Bl¨me': 3,\n",
       "         'Llume': 3,\n",
       "         'Buum': 1,\n",
       "         'Lume': 3,\n",
       "         'Blmmee': 1,\n",
       "         'Blluee': 1,\n",
       "         'Blum´': 1,\n",
       "         'Lbume': 1,\n",
       "         'Bblume': 3,\n",
       "         'BUme': 1})"
      ]
     },
     "execution_count": 5,
     "metadata": {},
     "output_type": "execute_result"
    }
   ],
   "source": [
    "%%time\n",
    "np.random.seed(seed=42)\n",
    "word = \"Blume\"\n",
    "newwords = []\n",
    "for i in range(1000):\n",
    "    newwords.append( wordtypo(word, settings) )\n",
    "\n",
    "Counter(newwords)"
   ]
  }
 ],
 "metadata": {
  "kernelspec": {
   "display_name": "Python 3 (ipykernel)",
   "language": "python",
   "name": "python3"
  },
  "language_info": {
   "codemirror_mode": {
    "name": "ipython",
    "version": 3
   },
   "file_extension": ".py",
   "mimetype": "text/x-python",
   "name": "python",
   "nbconvert_exporter": "python",
   "pygments_lexer": "ipython3",
   "version": "3.7.9"
  }
 },
 "nbformat": 4,
 "nbformat_minor": 5
}
