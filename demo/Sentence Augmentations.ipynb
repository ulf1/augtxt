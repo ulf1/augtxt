{
 "cells": [
  {
   "cell_type": "markdown",
   "id": "c66bab69-39dc-45c4-84b5-86b6b4cc4a50",
   "metadata": {},
   "source": [
    "# Sentence Augmentations"
   ]
  },
  {
   "cell_type": "code",
   "execution_count": 1,
   "id": "9e6fc4a3-71c4-4fd4-b815-533a9b7f6b66",
   "metadata": {},
   "outputs": [],
   "source": [
    "%load_ext autoreload\n",
    "%autoreload 2"
   ]
  },
  {
   "cell_type": "code",
   "execution_count": 2,
   "id": "696277aa-8d2e-4337-b0ff-8d0d21df6c81",
   "metadata": {},
   "outputs": [],
   "source": [
    "import sys\n",
    "sys.path.append('..')"
   ]
  },
  {
   "cell_type": "code",
   "execution_count": 3,
   "id": "1d106c2d-42e8-4821-ba32-0a6b4732cbdf",
   "metadata": {},
   "outputs": [],
   "source": [
    "from augtxt.augmenters import sentaugm\n",
    "import augtxt.keyboard_layouts as kbl\n",
    "import numpy as np"
   ]
  },
  {
   "cell_type": "code",
   "execution_count": 4,
   "id": "925c2e32-d9cd-439b-807d-740ccabe766f",
   "metadata": {},
   "outputs": [],
   "source": [
    "typo_settings = [\n",
    "    {'weight': 2, 'fn': 'typo.drop_n_next_twice',\n",
    "     'args': {'loc': 'u', 'keep_case': True}},\n",
    "    {'weight': 2, 'fn': 'typo.swap_consecutive',\n",
    "     'args': {'loc': 'u', 'keep_case': True}},\n",
    "    {'weight': 1, 'fn': 'typo.pressed_twice',\n",
    "     'args': {'loc': 'u', 'keep_case': True}},\n",
    "    {'weight': 1, 'fn': 'typo.drop_char',\n",
    "     'args': {'loc': 'u', 'keep_case': True}},\n",
    "    {'weight': 1, 'fn': 'typo.pressed_shiftalt',\n",
    "     'args': {'loc': ['b', 'm']}, 'keymap': kbl.qwertz_de}\n",
    "]\n",
    "\n",
    "order_settings = [\n",
    "    {'weight': 3, 'fn': 'order.swap_consecutive'},\n",
    "    {'weight': 2, 'fn': 'order.drop_word'},\n",
    "    {'weight': 1, 'fn': 'order.write_twice'},\n",
    "    {'weight': 1, 'fn': 'order.drop_n_next_twice'},\n",
    "]\n",
    "\n",
    "settings = {\n",
    "    \"typo\": {\"num_augmentations\": 6, \"settings\": typo_settings, \"pmax\": 0.1},\n",
    "    \"punct\": {\"num_augmentations\": 3},\n",
    "    \"order\": {\"num_augmentations\": 6, \"settings\": order_settings}\n",
    "}"
   ]
  },
  {
   "cell_type": "code",
   "execution_count": 5,
   "id": "8092184c-ffb5-4dab-a399-90261038167a",
   "metadata": {},
   "outputs": [],
   "source": [
    "np.random.seed(seed=42)\n",
    "exclude = [\"[MASK]\", \"[UNK]\"]\n",
    "sentence = 'Die Lehrerin [MASK] einen Roman.'\n",
    "augs = sentaugm(sentence, settings, exclude)"
   ]
  },
  {
   "cell_type": "code",
   "execution_count": 6,
   "id": "df2be462-877b-482c-afd9-a2f8c93a73a2",
   "metadata": {},
   "outputs": [
    {
     "data": {
      "text/plain": [
       "(15, 15)"
      ]
     },
     "execution_count": 6,
     "metadata": {},
     "output_type": "execute_result"
    }
   ],
   "source": [
    "len(augs), len(set(augs))"
   ]
  },
  {
   "cell_type": "code",
   "execution_count": 7,
   "id": "79a1eb74-31e4-409f-832e-d3bb4807f107",
   "metadata": {},
   "outputs": [
    {
     "data": {
      "text/plain": [
       "['Die Lehrein [MASK] einen Roman.',\n",
       " 'Lehrerin Die [MASK] einen Roman.',\n",
       " 'Die Lehrerin [MASK] eieen Roman.',\n",
       " 'Dielehrerin [MASK] einen Roman.',\n",
       " 'Die Lehrerin [MASK] einen Romna.',\n",
       " 'Die Lehrerin [MASK] einen Romann.',\n",
       " 'Die Lehrerin [MASK] einen Roman',\n",
       " 'Die Lehrerin [MASK] Roman einen.',\n",
       " 'Die Lehrerin [MASK] einenroman.',\n",
       " 'Iie Lehrerin [MASK] einen Roman.',\n",
       " 'Die Lehrerin [MASK] einen Rooman.',\n",
       " 'Lehrerin [MASK] einen Roman.',\n",
       " 'Die Lehrerin [MASK] eien Roman.',\n",
       " 'Die Lehrerin [MASK] einen Roamn.',\n",
       " 'Die LehrErin [MASK] einen Roman.']"
      ]
     },
     "execution_count": 7,
     "metadata": {},
     "output_type": "execute_result"
    }
   ],
   "source": [
    "augs"
   ]
  },
  {
   "cell_type": "code",
   "execution_count": null,
   "id": "b3483247-6126-445a-98e5-bedf018d5537",
   "metadata": {},
   "outputs": [],
   "source": []
  }
 ],
 "metadata": {
  "kernelspec": {
   "display_name": "Python 3 (ipykernel)",
   "language": "python",
   "name": "python3"
  },
  "language_info": {
   "codemirror_mode": {
    "name": "ipython",
    "version": 3
   },
   "file_extension": ".py",
   "mimetype": "text/x-python",
   "name": "python",
   "nbconvert_exporter": "python",
   "pygments_lexer": "ipython3",
   "version": "3.7.9"
  }
 },
 "nbformat": 4,
 "nbformat_minor": 5
}
