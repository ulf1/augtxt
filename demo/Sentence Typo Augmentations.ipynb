{
 "cells": [
  {
   "cell_type": "markdown",
   "id": "c66bab69-39dc-45c4-84b5-86b6b4cc4a50",
   "metadata": {},
   "source": [
    "# Sentence Typo Augmentations"
   ]
  },
  {
   "cell_type": "code",
   "execution_count": 1,
   "id": "9e6fc4a3-71c4-4fd4-b815-533a9b7f6b66",
   "metadata": {},
   "outputs": [],
   "source": [
    "%load_ext autoreload\n",
    "%autoreload 2"
   ]
  },
  {
   "cell_type": "code",
   "execution_count": 2,
   "id": "696277aa-8d2e-4337-b0ff-8d0d21df6c81",
   "metadata": {},
   "outputs": [],
   "source": [
    "import sys\n",
    "sys.path.append('..')"
   ]
  },
  {
   "cell_type": "code",
   "execution_count": 3,
   "id": "1d106c2d-42e8-4821-ba32-0a6b4732cbdf",
   "metadata": {},
   "outputs": [],
   "source": [
    "from augtxt.augmenters import senttypo\n",
    "import augtxt.keyboard_layouts as kbl\n",
    "import numpy as np"
   ]
  },
  {
   "cell_type": "code",
   "execution_count": 4,
   "id": "925c2e32-d9cd-439b-807d-740ccabe766f",
   "metadata": {},
   "outputs": [],
   "source": [
    "settings = [\n",
    "    {\n",
    "        'weight': 2, 'fn': 'typo.drop_n_next_twice',\n",
    "        'args': {'loc': 'u', 'keep_case': True}\n",
    "    },\n",
    "    {\n",
    "        'weight': 2, 'fn': 'typo.swap_consecutive', \n",
    "        'args': {'loc': 'u', 'keep_case': True}},\n",
    "    {\n",
    "        'weight': 1, 'fn': 'typo.pressed_twice',\n",
    "        'args': {'loc': 'u', 'keep_case': True}\n",
    "    },\n",
    "    {\n",
    "        'weight': 1, 'fn': 'typo.drop_char',\n",
    "        'args': {'loc': 'u', 'keep_case': True}\n",
    "    },\n",
    "    {\n",
    "        'weight': 1, 'fn': 'typo.pressed_shiftalt',\n",
    "        'args': {'loc': ['b', 'm']}\n",
    "    },\n",
    "]"
   ]
  },
  {
   "cell_type": "code",
   "execution_count": 5,
   "id": "3a178b0f-92f4-4789-a096-b8667679ccae",
   "metadata": {},
   "outputs": [
    {
     "name": "stdout",
     "output_type": "stream",
     "text": [
      "CPU times: user 5.14 ms, sys: 905 µs, total: 6.05 ms\n",
      "Wall time: 7.5 ms\n"
     ]
    }
   ],
   "source": [
    "np.random.seed(seed=42)\n",
    "exclude = [\"[MASK]\", \"[UNK]\"]\n",
    "sentence = 'Die Lehrerin [MASK] einen Roman.'\n",
    "%time augmentations = senttypo(sentence, settings=settings, exclude=exclude, num_augmentations=10, pmax=0.1)\n",
    "assert len(augmentations) == 10"
   ]
  },
  {
   "cell_type": "code",
   "execution_count": 6,
   "id": "9e05121f-f324-415a-b325-7b27c6f6efb1",
   "metadata": {},
   "outputs": [
    {
     "data": {
      "text/plain": [
       "['Die Lehrerin [MASK] eien Roman.',\n",
       " 'Die Lehrerin [MASK] einen Rooman.',\n",
       " 'Die Lehrerin [MASK] eieen Roman.',\n",
       " 'Die Lehrerin [MASK] einen Romna.',\n",
       " 'Die Lehrerin [MASK] einen Romann.',\n",
       " 'Die Lehrein [MASK] einen Roman.',\n",
       " 'Die Leheerin [MASK] einen Roman.',\n",
       " 'Diie Lehrerin [MASK] einen Roman.',\n",
       " 'Die Eehrerin [MASK] einen Roman.',\n",
       " 'Ide Lehrerin [MASK] einen Roman.']"
      ]
     },
     "execution_count": 6,
     "metadata": {},
     "output_type": "execute_result"
    }
   ],
   "source": [
    "augmentations"
   ]
  }
 ],
 "metadata": {
  "kernelspec": {
   "display_name": "Python 3 (ipykernel)",
   "language": "python",
   "name": "python3"
  },
  "language_info": {
   "codemirror_mode": {
    "name": "ipython",
    "version": 3
   },
   "file_extension": ".py",
   "mimetype": "text/x-python",
   "name": "python",
   "nbconvert_exporter": "python",
   "pygments_lexer": "ipython3",
   "version": "3.7.9"
  }
 },
 "nbformat": 4,
 "nbformat_minor": 5
}
